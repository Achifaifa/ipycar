{
 "cells": [
  {
   "cell_type": "markdown",
   "metadata": {
    "slideshow": {
     "slide_type": "slide"
    }
   },
   "source": [
    "# IPyCar  \n",
    "### Arregla tu coche con IPython\n",
    "\n",
    "[nombre-de-evento][fecha-de-evento]"
   ]
  },
  {
   "cell_type": "markdown",
   "metadata": {
    "slideshow": {
     "slide_type": "subslide"
    }
   },
   "source": [
    "### Yuri Numerov ([@Achifaifa](https://twitter.com/achifaifa))\n",
    "\n",
    "achi (a) hush.ai -[achi.se](http://achi.se)\n",
    "Diapositivas en [code.achi.se/ipycar](https://github.com/achifaifa/ipycar)"
   ]
  },
  {
   "cell_type": "markdown",
   "metadata": {
    "slideshow": {
     "slide_type": "subslide"
    }
   },
   "source": [
    "![](./img/logo-gamaker.png)\n",
    "<br/><br/><center>[gamaker.org](http://gamaker.org) - [@Gamaker_](https://twitter.com/gamaker_)</center>"
   ]
  },
  {
   "cell_type": "markdown",
   "metadata": {
    "slideshow": {
     "slide_type": "slide"
    }
   },
   "source": [
    "# ¿Qué pasa cuando se enciende esto?\n",
    "<br/><br/>\n",
    "![](./img/checkengine.png)"
   ]
  },
  {
   "cell_type": "markdown",
   "metadata": {
    "slideshow": {
     "slide_type": "subslide"
    }
   },
   "source": [
    "Se lleva el coche al taller, y ahí se le enchufa esto otro para identificar el problema\n",
    "<br/><br/>\n",
    "![](./img/exptool.jpg)\n"
   ]
  },
  {
   "cell_type": "markdown",
   "metadata": {
    "slideshow": {
     "slide_type": "subslide"
    }
   },
   "source": [
    "### El problema:  "
   ]
  },
  {
   "cell_type": "markdown",
   "metadata": {
    "slideshow": {
     "slide_type": "fragment"
    }
   },
   "source": [
    "* Esos aparatos cuestan (mucho) dinero"
   ]
  },
  {
   "cell_type": "markdown",
   "metadata": {
    "slideshow": {
     "slide_type": "fragment"
    }
   },
   "source": [
    "* Además hay que pagar por la mano de obra"
   ]
  },
  {
   "cell_type": "markdown",
   "metadata": {
    "slideshow": {
     "slide_type": "fragment"
    }
   },
   "source": [
    "* Los programas gratuitos están limitados"
   ]
  },
  {
   "cell_type": "markdown",
   "metadata": {
    "slideshow": {
     "slide_type": "fragment"
    }
   },
   "source": [
    "* Las opciones para smartphone/tablet dependen 100% del desarrollador"
   ]
  },
  {
   "cell_type": "markdown",
   "metadata": {
    "slideshow": {
     "slide_type": "subslide"
    }
   },
   "source": [
    "### ¿Cómo funciona?"
   ]
  },
  {
   "cell_type": "markdown",
   "metadata": {
    "slideshow": {
     "slide_type": "fragment"
    }
   },
   "source": [
    "Comunicándose con la centralita por el puerto OBDII (On-Board Diagnostics)\n",
    "\n",
    "![](./img/obd.png)"
   ]
  },
  {
   "cell_type": "markdown",
   "metadata": {
    "slideshow": {
     "slide_type": "subslide"
    }
   },
   "source": [
    "### ¡No parece gran cosa!"
   ]
  },
  {
   "cell_type": "markdown",
   "metadata": {
    "slideshow": {
     "slide_type": "fragment"
    }
   },
   "source": [
    "¡No lo es! OBD/EOBD/EOBD2/JOBD son estándares de obligado seguimiento que llevan implantados más de dos décadas"
   ]
  },
  {
   "cell_type": "markdown",
   "metadata": {
    "slideshow": {
     "slide_type": "fragment"
    }
   },
   "source": [
    "Para coches de menos de 8 pasajeros y menos de 2500Kg, todos los coches deben llevar uno desde 2001 (Gasolina) o 2004 (Diésel)"
   ]
  },
  {
   "cell_type": "markdown",
   "metadata": {
    "slideshow": {
     "slide_type": "fragment"
    }
   },
   "source": [
    "Los protocolos de comunicación y los códigos de error son libres y públicos, aunque cada fabricante añade sus extras\n",
    "\n",
    "* [SAE J1850 PWM](https://archive.org/stream/gov.law.sae.j1850.1995/sae.j1850.1995) (Ford)  \n",
    "* SAE J1850 VPW (General Motors)  \n",
    "* [ISO 14230](http://read.pudn.com/downloads168/doc/comm/774987/kp2000_2.pdf) (Mayoría de fabricantes)  \n",
    "* ISO 9141-2 (Chrysler)\n",
    "* ISO 15765 CAN (Bosh)\n"
   ]
  },
  {
   "cell_type": "markdown",
   "metadata": {
    "slideshow": {
     "slide_type": "fragment"
    }
   },
   "source": [
    "Al ser un protocolo tan extendido, la mayoría de lenguajes de programación tienen librerías disponibles\n",
    "\n",
    "([Python](https://pypi.python.org/pypi/obd), [Arduino](http://sourceforge.net/projects/obdcon/), [C#](https://obdcsharpwrapper.codeplex.com/), etc)"
   ]
  },
  {
   "cell_type": "markdown",
   "metadata": {
    "slideshow": {
     "slide_type": "subslide"
    }
   },
   "source": [
    "### ¿Y por qué ipython? ¿Qué es eso?"
   ]
  },
  {
   "cell_type": "code",
   "execution_count": null,
   "metadata": {
    "collapsed": true
   },
   "outputs": [],
   "source": []
  }
 ],
 "metadata": {
  "celltoolbar": "Slideshow",
  "kernelspec": {
   "display_name": "Python 2",
   "language": "python",
   "name": "python2"
  },
  "language_info": {
   "codemirror_mode": {
    "name": "ipython",
    "version": 2
   },
   "file_extension": ".py",
   "mimetype": "text/x-python",
   "name": "python",
   "nbconvert_exporter": "python",
   "pygments_lexer": "ipython2",
   "version": "2.7.10"
  }
 },
 "nbformat": 4,
 "nbformat_minor": 0
}
