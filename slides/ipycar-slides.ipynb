{
 "cells": [
  {
   "cell_type": "markdown",
   "metadata": {
    "slideshow": {
     "slide_type": "slide"
    }
   },
   "source": [
    "# IPyCar  \n",
    "### Diagnostica tu coche con IPython\n",
    "\n",
    "Araba Encounter 02 (2015-10-10)"
   ]
  },
  {
   "cell_type": "markdown",
   "metadata": {
    "slideshow": {
     "slide_type": "subslide"
    }
   },
   "source": [
    "### Yuri Numerov ([@Achifaifa](https://twitter.com/achifaifa))\n",
    "\n",
    "achi (a) hush.ai - [achi.se](http://achi.se)  \n",
    "Diapositivas en [code.achi.se/ipycar](https://github.com/achifaifa/ipycar)"
   ]
  },
  {
   "cell_type": "markdown",
   "metadata": {
    "slideshow": {
     "slide_type": "subslide"
    }
   },
   "source": [
    "![](./img/logo-gamaker.png)\n",
    "<br/><br/><center>[gamaker.org](http://gamaker.org) - [@Gamaker_](https://twitter.com/gamaker_)</center>"
   ]
  },
  {
   "cell_type": "markdown",
   "metadata": {
    "slideshow": {
     "slide_type": "slide"
    }
   },
   "source": [
    "# ¿Qué pasa cuando se enciende esto?\n",
    "<br/><br/>\n",
    "![](./img/checkengine.png)"
   ]
  },
  {
   "cell_type": "markdown",
   "metadata": {
    "slideshow": {
     "slide_type": "subslide"
    }
   },
   "source": [
    "Se lleva el coche al taller, y ahí se le enchufa esto otro para identificar el problema\n",
    "<br/><br/>\n",
    "![](./img/exptool.jpg)\n"
   ]
  },
  {
   "cell_type": "markdown",
   "metadata": {
    "slideshow": {
     "slide_type": "subslide"
    }
   },
   "source": [
    "### ¿Cómo funciona?"
   ]
  },
  {
   "cell_type": "markdown",
   "metadata": {
    "slideshow": {
     "slide_type": "fragment"
    }
   },
   "source": [
    "Comunicándose con la centralita por el puerto OBDII (On-Board Diagnostics)\n",
    "\n",
    "![](./img/obd.png)"
   ]
  },
  {
   "cell_type": "markdown",
   "metadata": {
    "slideshow": {
     "slide_type": "subslide"
    }
   },
   "source": [
    "### El problema:  "
   ]
  },
  {
   "cell_type": "markdown",
   "metadata": {
    "slideshow": {
     "slide_type": "fragment"
    }
   },
   "source": [
    "* Esos aparatos cuestan (mucho) dinero"
   ]
  },
  {
   "cell_type": "markdown",
   "metadata": {
    "slideshow": {
     "slide_type": "fragment"
    }
   },
   "source": [
    "* Además hay que pagar por la mano de obra"
   ]
  },
  {
   "cell_type": "markdown",
   "metadata": {
    "slideshow": {
     "slide_type": "fragment"
    }
   },
   "source": [
    "* Los programas gratuitos puede no tener funcionalidades que buscamos"
   ]
  },
  {
   "cell_type": "markdown",
   "metadata": {
    "slideshow": {
     "slide_type": "fragment"
    }
   },
   "source": [
    "* Las opciones para smartphone/tablet dependen 100% del desarrollador"
   ]
  },
  {
   "cell_type": "markdown",
   "metadata": {
    "slideshow": {
     "slide_type": "subslide"
    }
   },
   "source": [
    "### ¡No parece gran cosa!"
   ]
  },
  {
   "cell_type": "markdown",
   "metadata": {
    "slideshow": {
     "slide_type": "fragment"
    }
   },
   "source": [
    "¡No lo es! OBD/EOBD/EOBD2/JOBD son estándares de obligado seguimiento que llevan implantados más de dos décadas"
   ]
  },
  {
   "cell_type": "markdown",
   "metadata": {
    "slideshow": {
     "slide_type": "fragment"
    }
   },
   "source": [
    "Para coches de menos de 8 pasajeros y menos de 2500Kg, todos los coches deben llevar uno desde 2001 (Gasolina) o 2004 (Diésel)"
   ]
  },
  {
   "cell_type": "markdown",
   "metadata": {
    "slideshow": {
     "slide_type": "fragment"
    }
   },
   "source": [
    "Aunque el conector es estándar, hay diferentes protocolos\n",
    "Los protocolos de comunicación y los códigos de error son libres y públicos, aunque cada fabricante añade sus extras\n",
    "\n",
    "* [SAE J1850 PWM](https://archive.org/stream/gov.law.sae.j1850.1995/sae.j1850.1995) (Ford)  \n",
    "* SAE J1850 VPW (General Motors)  \n",
    "* [ISO 14230](http://read.pudn.com/downloads168/doc/comm/774987/kp2000_2.pdf) (Mayoría de fabricantes)  \n",
    "* ISO 15765 CAN (Bosh)\n"
   ]
  },
  {
   "cell_type": "markdown",
   "metadata": {
    "slideshow": {
     "slide_type": "fragment"
    }
   },
   "source": [
    "Al ser algo tan extendido, la mayoría de lenguajes de programación tienen librerías disponibles\n",
    "\n",
    "([Python](https://pypi.python.org/pypi/obd), [Arduino](http://sourceforge.net/projects/obdcon/), [C#](https://obdcsharpwrapper.codeplex.com/), etc)"
   ]
  },
  {
   "cell_type": "markdown",
   "metadata": {
    "slideshow": {
     "slide_type": "subslide"
    }
   },
   "source": [
    "### ¿Y la conexión?"
   ]
  },
  {
   "cell_type": "markdown",
   "metadata": {
    "slideshow": {
     "slide_type": "fragment"
    }
   },
   "source": [
    "Para eso vamos a utilizar algo como esto\n",
    "\n",
    "<center>![](./img/cable.jpg)</center>"
   ]
  },
  {
   "cell_type": "markdown",
   "metadata": {
    "slideshow": {
     "slide_type": "subslide"
    }
   },
   "source": [
    "### ¿Y eso?"
   ]
  },
  {
   "cell_type": "markdown",
   "metadata": {
    "slideshow": {
     "slide_type": "fragment"
    }
   },
   "source": [
    "Son adaptadores de OBD a RS232 que usan un chip ELM32X (Normalmente ELM327)"
   ]
  },
  {
   "cell_type": "markdown",
   "metadata": {
    "slideshow": {
     "slide_type": "fragment"
    }
   },
   "source": [
    "Cuestan entre 3€ (ebay) y 25€ (tienda de electrónica)"
   ]
  },
  {
   "cell_type": "markdown",
   "metadata": {
    "slideshow": {
     "slide_type": "fragment"
    }
   },
   "source": [
    "¡Ojo al comprar!\n",
    "* Las primeras versiones del chip no tenían el código protegido\n",
    "* Muchos de los 'chips' en circulación son clones con código antigüo\n",
    "* Incluso se anuncian versiones que no existen (diferentes a 1.3a, 1.4b, 2.1)\n",
    "* Las versiones con conector USB usan un puerto serie emulado por USB"
   ]
  },
  {
   "cell_type": "markdown",
   "metadata": {
    "slideshow": {
     "slide_type": "fragment"
    }
   },
   "source": [
    "Estos conectores son una 'ruleta rusa'. Teóricamente son 'universales', pero no suele ser el caso"
   ]
  },
  {
   "cell_type": "markdown",
   "metadata": {
    "slideshow": {
     "slide_type": "subslide"
    }
   },
   "source": [
    "### ¿Y por qué ipython? ¿Qué es eso?"
   ]
  },
  {
   "cell_type": "markdown",
   "metadata": {
    "slideshow": {
     "slide_type": "fragment"
    }
   },
   "source": [
    "IPython es una consola interactiva para python. Es similar al intérprete por defecto, pero:\n",
    "* Tiene autocompletar\n",
    "* Tiene notebooks (Ahora parte de Jupyter)"
   ]
  },
  {
   "cell_type": "markdown",
   "metadata": {
    "collapsed": true,
    "slideshow": {
     "slide_type": "slide"
    }
   },
   "source": [
    "### Aproximación 1: Leyendo códigos de error con la consola"
   ]
  },
  {
   "cell_type": "code",
   "execution_count": 1,
   "metadata": {
    "collapsed": true,
    "slideshow": {
     "slide_type": "fragment"
    }
   },
   "outputs": [],
   "source": [
    "# Primero, importamos la librería\n",
    "\n",
    "import obd"
   ]
  },
  {
   "cell_type": "code",
   "execution_count": 3,
   "metadata": {
    "collapsed": false,
    "slideshow": {
     "slide_type": "fragment"
    }
   },
   "outputs": [
    {
     "name": "stdout",
     "output_type": "stream",
     "text": [
      "[obd] Connection Error:\n",
      "[obd]     ATE0 did not return 'OK'\n"
     ]
    }
   ],
   "source": [
    "# Después inicializamos una conexión\n",
    "# (Vemos este error porque no estamos conectados o el dispositivo no es compatible con el protocolo)\n",
    "\n",
    "conn=obd.OBD()"
   ]
  },
  {
   "cell_type": "code",
   "execution_count": 4,
   "metadata": {
    "collapsed": true,
    "slideshow": {
     "slide_type": "fragment"
    }
   },
   "outputs": [],
   "source": [
    "# Seleccionamos un comando a enviar (Desde la propia librería)\n",
    "\n",
    "cmd=obd.commands.FUEL_LEVEL"
   ]
  },
  {
   "cell_type": "code",
   "execution_count": 6,
   "metadata": {
    "collapsed": false,
    "slideshow": {
     "slide_type": "fragment"
    }
   },
   "outputs": [
    {
     "name": "stdout",
     "output_type": "stream",
     "text": [
      "[obd] '012F: Fuel Level Input' is not supported\n"
     ]
    }
   ],
   "source": [
    "# Enviamos ese comando usando la conexión\n",
    "# (Error por no estar conectados ;P)\n",
    "\n",
    "respuesta=conn.query(cmd)"
   ]
  },
  {
   "cell_type": "code",
   "execution_count": 8,
   "metadata": {
    "collapsed": false,
    "slideshow": {
     "slide_type": "fragment"
    }
   },
   "outputs": [
    {
     "name": "stdout",
     "output_type": "stream",
     "text": [
      "None None\n"
     ]
    }
   ],
   "source": [
    "# Leemos la respuesta, que incluye valor y unidad\n",
    "# Error porque no hay respuesta :)\n",
    "\n",
    "print respuesta.value, respuesta.unit"
   ]
  },
  {
   "cell_type": "markdown",
   "metadata": {
    "slideshow": {
     "slide_type": "slide"
    }
   },
   "source": [
    "### Aproximación 2: Usando notebooks y el navegador, o un programa"
   ]
  },
  {
   "cell_type": "markdown",
   "metadata": {
    "slideshow": {
     "slide_type": "fragment"
    }
   },
   "source": [
    "Para crear un programa sólo necesitamos poner todas las líneas anteriores en un archivo .py"
   ]
  },
  {
   "cell_type": "code",
   "execution_count": 1,
   "metadata": {
    "collapsed": false,
    "slideshow": {
     "slide_type": "fragment"
    }
   },
   "outputs": [
    {
     "name": "stdout",
     "output_type": "stream",
     "text": [
      "[obd] Connection Error:\n",
      "[obd]     ATE0 did not return 'OK'\n",
      "[obd] '012F: Fuel Level Input' is not supported\n",
      "None None\n"
     ]
    }
   ],
   "source": [
    "import obd\n",
    "resp=obd.OBD().query(obd.commands.FUEL_LEVEL)\n",
    "print resp.value, resp.unit"
   ]
  },
  {
   "cell_type": "markdown",
   "metadata": {
    "slideshow": {
     "slide_type": "fragment"
    }
   },
   "source": [
    "Los notebooks de ipython (Como el usado para generar estas diapositivas) permiten compartir e interaccionar con programas. Usando un notebook podemos componer un programa como el anterior, pero con unfciones de autocompletar y aspectos que no intimidan tanto"
   ]
  },
  {
   "cell_type": "markdown",
   "metadata": {
    "slideshow": {
     "slide_type": "fragment"
    }
   },
   "source": [
    "(¿Demo?)"
   ]
  },
  {
   "cell_type": "markdown",
   "metadata": {
    "slideshow": {
     "slide_type": "slide"
    }
   },
   "source": [
    "### TO-DO:"
   ]
  },
  {
   "cell_type": "markdown",
   "metadata": {
    "slideshow": {
     "slide_type": "fragment"
    }
   },
   "source": [
    "* Pasar de adaptadores de ebay y construir uno con un ELM327"
   ]
  },
  {
   "cell_type": "markdown",
   "metadata": {
    "slideshow": {
     "slide_type": "fragment"
    }
   },
   "source": [
    "* Convertir el notebook en una página web (Enchufar, abrir archivo, ver códigos)"
   ]
  },
  {
   "cell_type": "markdown",
   "metadata": {
    "slideshow": {
     "slide_type": "fragment"
    }
   },
   "source": [
    "* Sacar más datos (Temperaturas, sensores, etc) para ayudar en diagnóstico"
   ]
  },
  {
   "cell_type": "markdown",
   "metadata": {
    "slideshow": {
     "slide_type": "fragment"
    }
   },
   "source": [
    "* Sacar TODOS los datos, almacenarlos, sacar gráficas (Telemetría, etc)"
   ]
  },
  {
   "cell_type": "markdown",
   "metadata": {
    "slideshow": {
     "slide_type": "fragment"
    }
   },
   "source": [
    "* Grabar datos y vídeo con RPi y procesarlo automáticamente"
   ]
  }
 ],
 "metadata": {
  "celltoolbar": "Slideshow",
  "kernelspec": {
   "display_name": "Python 2",
   "language": "python",
   "name": "python2"
  },
  "language_info": {
   "codemirror_mode": {
    "name": "ipython",
    "version": 2
   },
   "file_extension": ".py",
   "mimetype": "text/x-python",
   "name": "python",
   "nbconvert_exporter": "python",
   "pygments_lexer": "ipython2",
   "version": "2.7.10"
  }
 },
 "nbformat": 4,
 "nbformat_minor": 0
}
